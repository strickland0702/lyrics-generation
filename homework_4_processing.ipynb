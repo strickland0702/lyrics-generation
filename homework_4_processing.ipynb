{
 "metadata": {
  "language_info": {
   "codemirror_mode": {
    "name": "ipython",
    "version": 3
   },
   "file_extension": ".py",
   "mimetype": "text/x-python",
   "name": "python",
   "nbconvert_exporter": "python",
   "pygments_lexer": "ipython3",
   "version": "3.7.1"
  },
  "orig_nbformat": 2,
  "kernelspec": {
   "name": "python371jvsc74a57bd00600588c3b5f4418cbe7b5ebc6825b479f3bc010269d8b60d75058cdd010adfe",
   "display_name": "Python 3.7.1 64-bit"
  },
  "metadata": {
   "interpreter": {
    "hash": "0600588c3b5f4418cbe7b5ebc6825b479f3bc010269d8b60d75058cdd010adfe"
   }
  }
 },
 "nbformat": 4,
 "nbformat_minor": 2,
 "cells": [
  {
   "cell_type": "code",
   "execution_count": 1,
   "metadata": {},
   "outputs": [],
   "source": [
    "import pandas as pd\n",
    "import numpy as np"
   ]
  },
  {
   "cell_type": "code",
   "execution_count": 69,
   "metadata": {},
   "outputs": [],
   "source": [
    "test_data = pd.read_json(\"song-lyrics.test.jsonl\", lines=True)\n",
    "test_data.lyrics = test_data.lyrics.str.replace(\"\\n\", \" michigan \")\n",
    "test_data.lyrics = test_data.lyrics.apply(lambda x: x[:1024])\n",
    "with open(\"test_lyrics_single_line.txt\", \"w+\") as file_object:\n",
    "    for lyrics in test_data.lyrics:\n",
    "        file_object.write(lyrics + \"\\n\")"
   ]
  },
  {
   "cell_type": "code",
   "execution_count": 59,
   "metadata": {},
   "outputs": [
    {
     "output_type": "execute_result",
     "data": {
      "text/plain": [
       "               artist                                              title  \\\n",
       "0       Skunk Anansie                                  I'll Let You Down   \n",
       "1           The Kooks                                 Outstanding (Demo)   \n",
       "2          Atom Smash                                        Rocker girl   \n",
       "3       Lionel Richie                 I Call It Love (Moto Blanco remix)   \n",
       "4           Lil Wayne                                            Hustlin   \n",
       "...               ...                                                ...   \n",
       "84479       Motorhead  Iron Fist [Sonisphere Knebworth Festival, Engl...   \n",
       "84480          Berner                                          Slow Down   \n",
       "84481  Amanda McBroom                          My Father Always Promised   \n",
       "84482    Madison Beer                                              Radio   \n",
       "84483     The Agonist                                    Thank You, Pain   \n",
       "\n",
       "                                                  lyrics  \\\n",
       "0      Come along michigan And ride with me michigan ...   \n",
       "1      Sometimes I think, I don't understand michigan...   \n",
       "2      With her purple hair and a killer stare bodies...   \n",
       "3      Wooh michigan I look at you michigan You look ...   \n",
       "4      Dramatic, nigga! michigan Haha! Shoutout my ni...   \n",
       "...                                                  ...   \n",
       "84479  Dark night nothing to see michigan Invisible h...   \n",
       "84480  I be hella loaded when I grab the wheel michig...   \n",
       "84481  My Father Always Promised michigan My father a...   \n",
       "84482  Not even they can stop me now michigan Boy, I ...   \n",
       "84483  Judge: michigan So, lowly criminal michigan Pl...   \n",
       "\n",
       "                                                  genres  \n",
       "0                                     [alternative rock]  \n",
       "1      [indie rock, adult alternative, indie pop, alt...  \n",
       "2                        [post-grunge, alternative rock]  \n",
       "3                        [best-selling music, r&b, soul]  \n",
       "4                [rap rock, best-selling music, hip hop]  \n",
       "...                                                  ...  \n",
       "84479  [adult alternative, anarchist, heavy metal, sp...  \n",
       "84480                               [west coast hip hop]  \n",
       "84481                                                 []  \n",
       "84482                                                 []  \n",
       "84483  [metalcore, anglo-quebecer, melodic death meta...  \n",
       "\n",
       "[84484 rows x 4 columns]"
      ],
      "text/html": "<div>\n<style scoped>\n    .dataframe tbody tr th:only-of-type {\n        vertical-align: middle;\n    }\n\n    .dataframe tbody tr th {\n        vertical-align: top;\n    }\n\n    .dataframe thead th {\n        text-align: right;\n    }\n</style>\n<table border=\"1\" class=\"dataframe\">\n  <thead>\n    <tr style=\"text-align: right;\">\n      <th></th>\n      <th>artist</th>\n      <th>title</th>\n      <th>lyrics</th>\n      <th>genres</th>\n    </tr>\n  </thead>\n  <tbody>\n    <tr>\n      <th>0</th>\n      <td>Skunk Anansie</td>\n      <td>I'll Let You Down</td>\n      <td>Come along michigan And ride with me michigan ...</td>\n      <td>[alternative rock]</td>\n    </tr>\n    <tr>\n      <th>1</th>\n      <td>The Kooks</td>\n      <td>Outstanding (Demo)</td>\n      <td>Sometimes I think, I don't understand michigan...</td>\n      <td>[indie rock, adult alternative, indie pop, alt...</td>\n    </tr>\n    <tr>\n      <th>2</th>\n      <td>Atom Smash</td>\n      <td>Rocker girl</td>\n      <td>With her purple hair and a killer stare bodies...</td>\n      <td>[post-grunge, alternative rock]</td>\n    </tr>\n    <tr>\n      <th>3</th>\n      <td>Lionel Richie</td>\n      <td>I Call It Love (Moto Blanco remix)</td>\n      <td>Wooh michigan I look at you michigan You look ...</td>\n      <td>[best-selling music, r&amp;b, soul]</td>\n    </tr>\n    <tr>\n      <th>4</th>\n      <td>Lil Wayne</td>\n      <td>Hustlin</td>\n      <td>Dramatic, nigga! michigan Haha! Shoutout my ni...</td>\n      <td>[rap rock, best-selling music, hip hop]</td>\n    </tr>\n    <tr>\n      <th>...</th>\n      <td>...</td>\n      <td>...</td>\n      <td>...</td>\n      <td>...</td>\n    </tr>\n    <tr>\n      <th>84479</th>\n      <td>Motorhead</td>\n      <td>Iron Fist [Sonisphere Knebworth Festival, Engl...</td>\n      <td>Dark night nothing to see michigan Invisible h...</td>\n      <td>[adult alternative, anarchist, heavy metal, sp...</td>\n    </tr>\n    <tr>\n      <th>84480</th>\n      <td>Berner</td>\n      <td>Slow Down</td>\n      <td>I be hella loaded when I grab the wheel michig...</td>\n      <td>[west coast hip hop]</td>\n    </tr>\n    <tr>\n      <th>84481</th>\n      <td>Amanda McBroom</td>\n      <td>My Father Always Promised</td>\n      <td>My Father Always Promised michigan My father a...</td>\n      <td>[]</td>\n    </tr>\n    <tr>\n      <th>84482</th>\n      <td>Madison Beer</td>\n      <td>Radio</td>\n      <td>Not even they can stop me now michigan Boy, I ...</td>\n      <td>[]</td>\n    </tr>\n    <tr>\n      <th>84483</th>\n      <td>The Agonist</td>\n      <td>Thank You, Pain</td>\n      <td>Judge: michigan So, lowly criminal michigan Pl...</td>\n      <td>[metalcore, anglo-quebecer, melodic death meta...</td>\n    </tr>\n  </tbody>\n</table>\n<p>84484 rows × 4 columns</p>\n</div>"
     },
     "metadata": {},
     "execution_count": 59
    }
   ],
   "source": [
    "test_data"
   ]
  },
  {
   "cell_type": "code",
   "execution_count": 60,
   "metadata": {},
   "outputs": [
    {
     "output_type": "execute_result",
     "data": {
      "text/plain": [
       "0        Come along michigan And ride with me michigan ...\n",
       "1        Sometimes I think, I don't understand michigan...\n",
       "2        With her purple hair and a killer stare bodies...\n",
       "3        Wooh michigan I look at you michigan You look ...\n",
       "4        Dramatic, nigga! michigan Haha! Shoutout my ni...\n",
       "                               ...                        \n",
       "84479    Dark night nothing to see michigan Invisible h...\n",
       "84480    I be hella loaded when I grab the wheel michig...\n",
       "84481    My Father Always Promised michigan My father a...\n",
       "84482    Not even they can stop me now michigan Boy, I ...\n",
       "84483    Judge: michigan So, lowly criminal michigan Pl...\n",
       "Name: lyrics, Length: 84484, dtype: object"
      ]
     },
     "metadata": {},
     "execution_count": 60
    }
   ],
   "source": [
    "test_data.lyrics = test_data.lyrics.str.replace(\"\\n\", \" michigan \")\n",
    "test_data.lyrics"
   ]
  },
  {
   "cell_type": "code",
   "execution_count": 65,
   "metadata": {},
   "outputs": [],
   "source": [
    "test_data.lyrics = test_data.lyrics.apply(lambda x: x[:1024])"
   ]
  },
  {
   "cell_type": "code",
   "execution_count": 78,
   "metadata": {},
   "outputs": [],
   "source": [
    "prompt_words_list = []\n",
    "for lyrics in test_data.lyrics[:1200]:\n",
    "    lyrics = lyrics.split()\n",
    "    prompt_words_list.append(lyrics[0])"
   ]
  },
  {
   "cell_type": "code",
   "execution_count": 83,
   "metadata": {},
   "outputs": [
    {
     "output_type": "execute_result",
     "data": {
      "text/plain": [
       "\"I am burdened by a blindness to your flaws michigan You're the only problem I can't seem to sleep off michigan And I hear trouble every time you call my name michigan But I wouldn't have it any other way michigan And now I'm suffering the consequences michigan (Suffering the consequences) michigan Running out of breath michigan Every time my mind runs wild michigan You are always where it goes michigan And I like to waste my time michigan With you michigan There's no hurry michigan No hurry michigan I think I've got to see it to believe michigan 'Cause you and I, we fit together perfectly michigan And I hear trouble every time you call my name michigan But I wouldn't have it any other way michigan And now I'm suffering the consequences michigan (Suffering the consequences) michigan Running out of breath michigan Every time my mind runs wild michigan You are always where it goes michigan And I like to waste my time michigan With you michigan There's no hurry michigan No hurry michigan And now I'm suffering the\""
      ]
     },
     "metadata": {},
     "execution_count": 83
    }
   ],
   "source": [
    "test_data.lyrics[68580]"
   ]
  },
  {
   "cell_type": "code",
   "execution_count": 81,
   "metadata": {},
   "outputs": [
    {
     "output_type": "execute_result",
     "data": {
      "text/plain": [
       "523"
      ]
     },
     "metadata": {},
     "execution_count": 81
    }
   ],
   "source": [
    "len(prompt_words_list)"
   ]
  },
  {
   "cell_type": "code",
   "execution_count": 82,
   "metadata": {},
   "outputs": [
    {
     "output_type": "stream",
     "name": "stdout",
     "text": [
      "{'Desolation,', 'Circle', 'Someone', 'Lying', 'Ayy', 'Send', 'Tell', '...and', 'Sh-sh-sh-shady', 'Mr.', 'Brylcreem,', 'Dum,', 'Give', '(Skrrrr)', 'Hours', 'Electric', 'Last', 'Instrumental:', 'Each', \"Let's\", 'Top', '*Ladies', 'Fire', 'Whenever', 'Bleed', '(Chorus:', 'Explain', 'Right', 'With', 'Woo,', 'See', 'Keeping', 'Please', 'Would', 'Goodnight', 'Never', 'Me', 'Walking', 'Brought', 'Nas:', 'Squirrels.', \"'Coz\", 'Growing', 'Little', 'Llew', '(Yuh', 'Bombers', 'Calimocho,', 'Eardrummers!', 'Leaving', 'Ah,', 'I`m', 'Torchlight', 'Why', 'Ya', 'Biatch!', '(She', 'Sometimes', 'Sitting', 'Talk', 'Silence', 'Soaring', 'Elected', 'Now', 'Zaytoven', 'Wake', 'Know', 'Some', 'Takeoff', 'Understand', \"Livin'\", 'Woah', 'Tears', 'Hope', 'Rooted', 'Uh,', 'Carmichael-Gorrell', 'Moses', 'Shy', 'Perseguitare', 'Yo', \"There's\", 'Lady', 'Im', '(La-la-la-la,', 'Fill', 'She', 'At', '--', 'I,', 'Whoo!', 'Way', 'From', 'Sunday', 'Undeserving', 'Intro:', 'Left,', 'Two', 'Shadowcast', 'Standing', 'One', 'Venus', \"Didn't\", 'Half', '(Chorus)', 'Bruk', 'Nothing', 'Ayy,', 'Statik', 'Timeless', 'Take', 'Shuddering', 'Portable', '\"Yo,', 'SCENE', 'Come', 'Vatican', 'Cool', 'Playing', 'Stoooop!', 'Ellie', 'Looking', 'Ohhh', 'Tonight', 'Once', 'Corre', 'Night', 'Whadup', 'Woke', 'Hate', 'Do', 'God', 'How', '1-6-6', 'Fame', 'Trust', 'Centipede', 'Hey', 'Bend', ':', 'Lay', 'Di', '(Lawrence', 'K-nuff', 'Fever,', 'Soloist:', 'Jesus', '\"Gareth', 'Uncertainties', 'Thinking', 'Beat', \"I'd\", 'Love,', 'Pla-Player,', 'So', 'Waiting', 'Markets', 'Save', 'Feel', \"Ch'yeah\", 'Blessed', 'Lost', 'Living', 'Sister', 'Crazy', 'Fell', 'La', 'Babeh', 'Not', 'Tear', 'EPIC', 'I', 'Woah,', 'Dear', 'Coronado', 'Baby,', 'Thy', 'Ohhh-o-o-yeah', \"Steamin'\", \"He's\", \"You've\", 'Up', '(Kirsty', 'There', 'Follow', 'Black', '(Dollars)', \"Ridin'\", 'TAKING', \"I'ma\", 'Valentines', 'Aye', 'Down', 'Stuck', 'Where', 'Oh', 'Anybody', 'And', 'Til', 'Eyes', 'Soaks', 'Gleb', 'Pulled', 'Shoutout', '{please', 'Oh-oh-oh', 'Hold', 'Wave', 'Got', '{*plane', \"(It's\", \"We've\", 'Social', '(Verse)', 'Doc,', 'Frisbee', '(German)', 'Pressure', '\"Hark!\",', 'Sometimes,', '(Ian', 'Big', 'First', 'Music:', 'Clinging', \"I'm\", 'Sometiem', 'Gabrielle', \"Something's\", 'Cry', 'Feels', 'Drove', 'You', 'The', 'Sunshine', 'Those', 'Sun', \"I'll\", '(Hook)', 'Anabelle,', \"We'll\", 'Takai', 'Love', 'Chorus', 'Reflecting', \"Lovin'\", '(Jim', 'Ask', 'Oceans', 'New', 'Eenie', 'Southside', '(Oh,', 'Look,', '\"The', 'Faded', 'If', 'Old', 'In', 'Johnny', 'Things', 'Show', 'That', 'This', 'Lord', '*Woof*', 'Among', '\"So,', \"What's\", 'Step', 'Annie', 'To', 'Amazing', 'Hail', 'Bump,', 'Part', 'Put', 'Climb,', 'Lights', 'Bitches', 'Staring', 'Call', '\"I', 'Listen', \"She's\", 'Everybody', 'Deranged', 'Born', 'What', 'Mic', 'Heed', 'Morning', \"Surfin'\", 'Hello,', 'London,', 'Maybe', 'Ice', 'Oooh', 'Levels,', 'Girlfriend', 'Left!', 'OH', 'Anuel', 'Hahahahahaha,', 'Sickened', \"Goin'\", 'Sharp', \"It's\", 'Goodbye', 'High', 'Empty', 'Time', '(Busta', \"That's\", 'Beyond', 'Five', 'When', 'Echoes', \"We're\", 'Fog', 'Whatever', \"Today's\", '(spoken:)', '(*talking*)', 'Watch', 'Outside', 'Shadows', 'Man,', 'Rising', 'High-igh-igh-igh', 'Breathe', 'These', \"Who's\", 'Hear', \"You're\", 'Hit', 'Temperatures', 'Have', 'Sweet', 'Being', 'Blue', 'King', 'Life', 'Now,', 'Lead', 'People', 'City', 'Renowned', 'Make', 'We', 'Release', 'Hating', 'Found', 'It', 'but', '(ThisABeats,', 'Careless', '(Baby,', '(Raul', 'When...', 'Fuck', 'Check', 'Lyrics', 'Mofro', 'All', 'On', 'My', 'Ooh,', \"Fuckin'\", 'Money', 'Boys:', 'Jack', 'Might', 'Accessorize', 'Poor', \"Don't,\", 'OUTRAGE!!', 'Another', '(feat.', 'Energy', 'MASTER', '(Intro)', 'Ohhhh', \"Josie's\", 'LUNIZ...yeeeah,', 'Hallelujah,', 'Just,', \"I've\", 'Broadcasting', 'YEAH!', 'Oh.', '\"In', 'Her', 'Seen', '(intro)', 'Corrina,', 'Sochian', 'Same', 'Janis', \"Ain't\", 'Does', 'Turn', 'Well', 'Smoke', 'Pocketful', 'Elements,', 'Deep', 'Phone', 'Mother', 'Salutations', 'Employment', 'Shame,', 'Can', 'Brittle', 'Hot', 'Yeah,', 'Wooh', 'Hello', 'Start', 'Everything', 'Clocks', 'Ticking', 'Hunnid', 'Gucci', 'Danger', 'Hey,', 'Test', 'Headlights', 'Gothboiclique', 'Satan,', '5.', 'Scandalous', 'Phantoms', '*extra', 'Smart', 'Are', 'Just', 'Dramatic,', 'Mad', 'But', '{to', 'Testing...', 'Check,', 'Ear', 'Click', 'As', 'Mmmmmm', 'Holy', 'Under', 'R-O-C-K', 'Here', 'I.', 'Holly', '\"One', 'Giant', '(Verse', 'Papers', '(Pnb', 'Remedies', 'Yeah', 'Sharks', 'Baby', 'A', 'Nighttime,', 'Get', 'Your', 'Pull', 'Started', 'Guide', 'Pointy', 'Too', 'No', 'Let', 'Okay', 'People!', 'By', 'Fargo,', 'Skinny', \"Zion's\", 'Oh,', '(Intro:', 'Heeeeey!', 'He', 'Look', 'Like', 'Three', 'Walk', 'Well,', 'Yeah~', 'Every', \"Don't\", 'Jadakiss', 'Letting', 'We!', '(Sha-la-la-la', '(c)', 'Hey!', 'Alright,', 'Welcome', 'Yeah...Check', 'Loveless!', 'Thrash!!!', 'Ten', 'Uh', 'Shit', 'Good', 'They', 'Paranoid', 'Ride', 'Bring', 'Haha,', 'Ahhh', 'Sacrifices', 'Shyea!', 'Da', ']', '(Luca', 'Heard', 'Out', '\"Are', 'Somewhere', 'Dirty,', 'Round,'}\n"
     ]
    }
   ],
   "source": [
    "print(prompt_words_list)"
   ]
  },
  {
   "cell_type": "code",
   "execution_count": 2,
   "metadata": {},
   "outputs": [],
   "source": [
    "import json"
   ]
  },
  {
   "cell_type": "code",
   "execution_count": 4,
   "metadata": {},
   "outputs": [],
   "source": [
    "with open(\"500_generated_lyrics.json\", \"r\") as file_object:\n",
    "    data = json.load(file_object)"
   ]
  },
  {
   "source": [
    "# Part 3"
   ],
   "cell_type": "markdown",
   "metadata": {}
  },
  {
   "cell_type": "code",
   "execution_count": 2,
   "metadata": {},
   "outputs": [],
   "source": [
    "import pandas as pd \n",
    "import numpy as np"
   ]
  },
  {
   "cell_type": "code",
   "execution_count": 78,
   "metadata": {},
   "outputs": [],
   "source": [
    "machine_train_data = pd.read_json(\"lyrics.machine-gen.test.jsonl\", lines=True)\n",
    "training_dataset = machine_train_data[[\"lyrics\"]].sample(5000).copy()\n",
    "training_dataset[\"labels\"] = 0\n",
    "training_dataset.rename({\"lyrics\": \"text\"}, axis=1, inplace=True)\n",
    "training_dataset[\"text\"] = training_dataset[\"text\"].apply(lambda x: x.replace(\"\\n\", \" michigan \"))"
   ]
  },
  {
   "cell_type": "code",
   "execution_count": 89,
   "metadata": {},
   "outputs": [
    {
     "output_type": "execute_result",
     "data": {
      "text/plain": [
       "4103    All around the world they're saying no, they d...\n",
       "1316    Thank you, mami. Thank you michigan  michigan ...\n",
       "4543    Don't be surprised if he sees you crying, baby...\n",
       "8883    Spit your shit, dump on the fence) michigan (D...\n",
       "6828    I wish I knew how to win the race michigan I w...\n",
       "                              ...                        \n",
       "8459    (Yo Pi'erre, you good?) michigan Now let me se...\n",
       "5782    We're gonna push our love so far up and we're ...\n",
       "1577    I can't lose and I'm not having it michigan If...\n",
       "3413    You could die here now) michigan (Don't come f...\n",
       "6798    Acid casualties from viral disease michigan An...\n",
       "Name: text, Length: 5000, dtype: object"
      ]
     },
     "metadata": {},
     "execution_count": 89
    }
   ],
   "source": [
    "training_dataset.texts"
   ]
  },
  {
   "cell_type": "code",
   "execution_count": 80,
   "metadata": {},
   "outputs": [],
   "source": [
    "human_train_data = pd.read_json(\"song-lyrics.test.jsonl\", lines=True)\n",
    "human_training_dataset = human_train_data[[\"lyrics\"]].sample(5000).copy()\n",
    "human_training_dataset[\"labels\"] = 1\n",
    "human_training_dataset.rename({\"lyrics\": \"text\"}, axis = 1, inplace=True)\n",
    "human_training_dataset[\"text\"] = human_training_dataset[\"text\"].apply(lambda x: x.replace(\"\\n\", \" michigan \"))"
   ]
  },
  {
   "cell_type": "code",
   "execution_count": 81,
   "metadata": {},
   "outputs": [
    {
     "output_type": "execute_result",
     "data": {
      "text/plain": [
       "                                                    text  labels\n",
       "38778  I wanna spread news all around michigan About ...       1\n",
       "63730  Don't wanna talk about the way I am michigan I...       1\n",
       "27408  Yeah, this to all the people in my life michig...       1\n",
       "32472  I see the tracers it leaves in the sky michiga...       1\n",
       "68691  Pour up michigan NeilOnDaTrack michigan Purpp ...       1\n",
       "...                                                  ...     ...\n",
       "82266  If in my quest 2 achieve my goals michigan I s...       1\n",
       "23185  Diggin deep into the low budget michigan Halft...       1\n",
       "14749  Just another lie michigan On a different day m...       1\n",
       "56211  I saw Shane Warne pick his nose michigan Now i...       1\n",
       "63082  This is where she finds herself michigan Alone...       1\n",
       "\n",
       "[5000 rows x 2 columns]"
      ],
      "text/html": "<div>\n<style scoped>\n    .dataframe tbody tr th:only-of-type {\n        vertical-align: middle;\n    }\n\n    .dataframe tbody tr th {\n        vertical-align: top;\n    }\n\n    .dataframe thead th {\n        text-align: right;\n    }\n</style>\n<table border=\"1\" class=\"dataframe\">\n  <thead>\n    <tr style=\"text-align: right;\">\n      <th></th>\n      <th>text</th>\n      <th>labels</th>\n    </tr>\n  </thead>\n  <tbody>\n    <tr>\n      <th>38778</th>\n      <td>I wanna spread news all around michigan About ...</td>\n      <td>1</td>\n    </tr>\n    <tr>\n      <th>63730</th>\n      <td>Don't wanna talk about the way I am michigan I...</td>\n      <td>1</td>\n    </tr>\n    <tr>\n      <th>27408</th>\n      <td>Yeah, this to all the people in my life michig...</td>\n      <td>1</td>\n    </tr>\n    <tr>\n      <th>32472</th>\n      <td>I see the tracers it leaves in the sky michiga...</td>\n      <td>1</td>\n    </tr>\n    <tr>\n      <th>68691</th>\n      <td>Pour up michigan NeilOnDaTrack michigan Purpp ...</td>\n      <td>1</td>\n    </tr>\n    <tr>\n      <th>...</th>\n      <td>...</td>\n      <td>...</td>\n    </tr>\n    <tr>\n      <th>82266</th>\n      <td>If in my quest 2 achieve my goals michigan I s...</td>\n      <td>1</td>\n    </tr>\n    <tr>\n      <th>23185</th>\n      <td>Diggin deep into the low budget michigan Halft...</td>\n      <td>1</td>\n    </tr>\n    <tr>\n      <th>14749</th>\n      <td>Just another lie michigan On a different day m...</td>\n      <td>1</td>\n    </tr>\n    <tr>\n      <th>56211</th>\n      <td>I saw Shane Warne pick his nose michigan Now i...</td>\n      <td>1</td>\n    </tr>\n    <tr>\n      <th>63082</th>\n      <td>This is where she finds herself michigan Alone...</td>\n      <td>1</td>\n    </tr>\n  </tbody>\n</table>\n<p>5000 rows × 2 columns</p>\n</div>"
     },
     "metadata": {},
     "execution_count": 81
    }
   ],
   "source": [
    "human_training_dataset"
   ]
  },
  {
   "cell_type": "code",
   "execution_count": 82,
   "metadata": {},
   "outputs": [],
   "source": [
    "final_training_data = pd.concat([training_dataset, human_training_dataset]).reset_index()\n",
    "final_training_data.drop(\"index\", axis=1, inplace=True)"
   ]
  },
  {
   "cell_type": "code",
   "execution_count": 83,
   "metadata": {},
   "outputs": [
    {
     "output_type": "execute_result",
     "data": {
      "text/plain": [
       "                                                   text  labels\n",
       "0     All around the world they're saying no, they d...       0\n",
       "1     Thank you, mami. Thank you michigan  michigan ...       0\n",
       "2     Don't be surprised if he sees you crying, baby...       0\n",
       "3     Spit your shit, dump on the fence) michigan (D...       0\n",
       "4     I wish I knew how to win the race michigan I w...       0\n",
       "...                                                 ...     ...\n",
       "9995  If in my quest 2 achieve my goals michigan I s...       1\n",
       "9996  Diggin deep into the low budget michigan Halft...       1\n",
       "9997  Just another lie michigan On a different day m...       1\n",
       "9998  I saw Shane Warne pick his nose michigan Now i...       1\n",
       "9999  This is where she finds herself michigan Alone...       1\n",
       "\n",
       "[10000 rows x 2 columns]"
      ],
      "text/html": "<div>\n<style scoped>\n    .dataframe tbody tr th:only-of-type {\n        vertical-align: middle;\n    }\n\n    .dataframe tbody tr th {\n        vertical-align: top;\n    }\n\n    .dataframe thead th {\n        text-align: right;\n    }\n</style>\n<table border=\"1\" class=\"dataframe\">\n  <thead>\n    <tr style=\"text-align: right;\">\n      <th></th>\n      <th>text</th>\n      <th>labels</th>\n    </tr>\n  </thead>\n  <tbody>\n    <tr>\n      <th>0</th>\n      <td>All around the world they're saying no, they d...</td>\n      <td>0</td>\n    </tr>\n    <tr>\n      <th>1</th>\n      <td>Thank you, mami. Thank you michigan  michigan ...</td>\n      <td>0</td>\n    </tr>\n    <tr>\n      <th>2</th>\n      <td>Don't be surprised if he sees you crying, baby...</td>\n      <td>0</td>\n    </tr>\n    <tr>\n      <th>3</th>\n      <td>Spit your shit, dump on the fence) michigan (D...</td>\n      <td>0</td>\n    </tr>\n    <tr>\n      <th>4</th>\n      <td>I wish I knew how to win the race michigan I w...</td>\n      <td>0</td>\n    </tr>\n    <tr>\n      <th>...</th>\n      <td>...</td>\n      <td>...</td>\n    </tr>\n    <tr>\n      <th>9995</th>\n      <td>If in my quest 2 achieve my goals michigan I s...</td>\n      <td>1</td>\n    </tr>\n    <tr>\n      <th>9996</th>\n      <td>Diggin deep into the low budget michigan Halft...</td>\n      <td>1</td>\n    </tr>\n    <tr>\n      <th>9997</th>\n      <td>Just another lie michigan On a different day m...</td>\n      <td>1</td>\n    </tr>\n    <tr>\n      <th>9998</th>\n      <td>I saw Shane Warne pick his nose michigan Now i...</td>\n      <td>1</td>\n    </tr>\n    <tr>\n      <th>9999</th>\n      <td>This is where she finds herself michigan Alone...</td>\n      <td>1</td>\n    </tr>\n  </tbody>\n</table>\n<p>10000 rows × 2 columns</p>\n</div>"
     },
     "metadata": {},
     "execution_count": 83
    }
   ],
   "source": [
    "final_training_data"
   ]
  },
  {
   "cell_type": "code",
   "execution_count": 84,
   "metadata": {},
   "outputs": [],
   "source": [
    "final_training_data.to_csv(\"final_test_dataset.csv\")"
   ]
  },
  {
   "cell_type": "code",
   "execution_count": null,
   "metadata": {},
   "outputs": [],
   "source": []
  }
 ]
}